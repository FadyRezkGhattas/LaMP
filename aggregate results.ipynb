{
 "cells": [
  {
   "cell_type": "code",
   "execution_count": 6,
   "metadata": {},
   "outputs": [
    {
     "name": "stderr",
     "output_type": "stream",
     "text": [
      "/home/CORP/fady.rezk/miniconda3/envs/lamp/lib/python3.9/site-packages/huggingface_hub/file_download.py:1142: FutureWarning: `resume_download` is deprecated and will be removed in version 1.0.0. Downloads always resume when possible. If you want to force a new download, use `force_download=True`.\n",
      "  warnings.warn(\n"
     ]
    }
   ],
   "source": [
    "import json\n",
    "import os\n",
    "import sys\n",
    "sys.path.insert(0, '/home/CORP/fady.rezk/frezk/LaMP')\n",
    "\n",
    "import torch\n",
    "import numpy as np\n",
    "from metrics.utils import get_metrics\n",
    "from transformers import AutoTokenizer\n",
    "\n",
    "max_generation_length = 512\n",
    "tokenizer = AutoTokenizer.from_pretrained('google/flan-t5-base')"
   ]
  },
  {
   "cell_type": "code",
   "execution_count": 7,
   "metadata": {},
   "outputs": [],
   "source": [
    "prefix = ''\n",
    "\n",
    "# LaMP-2\n",
    "lamp2 = {\n",
    "    'SGD': [\n",
    "        '/scratch-01/frezk/LaMP/experiments/LaMP-2/sgd_baseline_new_split/r_6_alpha_16_lr_0.01_epochs_20_sch_linear/per_user', 'query_'\n",
    "    ],\n",
    "    'LoRA-Hub': [\n",
    "        '/scratch-01/frezk/LaMP/experiments/LaMP-2/dev_questions_merged_lora_hub_new_split/per_user', ''\n",
    "    ],\n",
    "    'MeZO': [\n",
    "        '/scratch-01/frezk/LaMP/experiments/LaMP-2/mezo_new_split/r_6_alpha_16_lr_0.001_epochs_320_sch_linear/per_user', 'query_'\n",
    "    ],\n",
    "    'Model Zoo': [\n",
    "        '/scratch-01/frezk/LaMP/experiments/LaMP-2/dev_questions_merged_stage_4_zoo_5_clusters_new_split/per_user/', ''\n",
    "    ],\n",
    "    'STEEL': [\n",
    "        '/scratch-01/frezk/LaMP/experiments/LaMP-2/dev_questions_merged_stage_4_mlp4x3l_22_clusters_zoo_new_split/per_user', ''\n",
    "    ],\n",
    "}\n",
    "\n",
    "# LaMP-5\n",
    "lamp5 = {\n",
    "    'SGD': [\n",
    "        '/scratch-01/frezk/LaMP/experiments/LaMP-5/sgd_baseline/r_6_alpha_16_lr_0.01_epochs_20_sch_linear/per_user', 'query_'\n",
    "    ],\n",
    "    'SGD-new-recipe': [\n",
    "        '/scratch-01/frezk/LaMP/experiments/LaMP-5/sgd_baseline_new_recipe/r_6_alpha_16_lr_0.001_epochs_10_sch_linear/per_user', 'query_'\n",
    "    ],\n",
    "    # LoRA-Hub was truncated properly to 256 (checked in hyperparameters.json dump)\n",
    "    'LoRA-Hub': [\n",
    "        '/scratch-01/frezk/LaMP/experiments/LaMP-5/dev_questions_merged_lora_hub/per_user', ''\n",
    "    ],\n",
    "    # LoRA-Hub was truncated properly to 256 (checked in hyperparameters.json dump)\n",
    "    'MeZO': [\n",
    "        '/scratch-01/frezk/LaMP/experiments/LaMP-5/mezo/r_6_alpha_16_lr_0.001_epochs_320_sch_linear/per_user', 'query_'\n",
    "    ],\n",
    "    'Model Zoo': [\n",
    "        '/scratch-01/frezk/LaMP/experiments/LaMP-5/dev_questions_merged_stage_4_model_zoo_54clusters_trnct_256/per_user', ''\n",
    "    ],\n",
    "    'STEEL': [\n",
    "        '/scratch-01/frezk/LaMP/experiments/LaMP-5/dev_questions_merged_stage_4_mlp4x3l_14clusters_trnct_256/per_user', ''\n",
    "    ],\n",
    "}\n",
    "\n",
    "# LaMP-3\n",
    "lamp3 = {\n",
    "    'SGD': [\n",
    "        '/scratch-01/frezk/LaMP/experiments/LaMP-3/sgd_baseline/r_6_alpha_16_lr_0.01_epochs_20_sch_linear/per_user', 'query_'\n",
    "    ],\n",
    "    'SGD-new-recipe': [\n",
    "        '/scratch-01/frezk/LaMP/experiments/LaMP-3/sgd_baseline_new_recipe/r_6_alpha_16_lr_0.01_epochs_10_sch_linear/per_user', 'query_'\n",
    "    ],\n",
    "    # LoRA-Hub was truncated properly to 256 (checked in hyperparameters.json dump)\n",
    "    'LoRA-Hub': [\n",
    "        '/scratch-01/frezk/LaMP/experiments/LaMP-3/dev_questions_merged_lora_hub_trnct_256_seeded/per_user/', ''\n",
    "    ],\n",
    "    'Mezo': [\n",
    "        '/scratch-01/frezk/LaMP/experiments/LaMP-3/mezo/r_6_alpha_16_lr_0.001_epochs_320_sch_linear/per_user', 'query_'\n",
    "    ],\n",
    "    'Model Zoo': [\n",
    "        '/scratch-01/frezk/LaMP/experiments/LaMP-3/dev_questions_merged_stage_4_model_zoo_150clusters_trnct_256/per_user', ''\n",
    "    ],\n",
    "    'STEEL': [\n",
    "        '/scratch-01/frezk/LaMP/experiments/LaMP-3/dev_questions_merged_stage_4_mlp4x3l_92clusters_trnct_256/per_user', ''\n",
    "    ]\n",
    "}\n",
    "\n",
    "\n",
    "def tokenize(data, tokenizer):\n",
    "    tokenized = tokenizer(data)['input_ids']\n",
    "    tokenized = np.array([np.pad(torch.tensor(x), (tokenizer.pad_token_id, max_generation_length - len(x))) for x in tokenized])\n",
    "    return tokenized\n",
    "\n",
    "def flatten(data):\n",
    "    if type(data[0]) is list:\n",
    "        data = [x for data_list in data for x in data_list]\n",
    "    return data\n",
    "\n",
    "def get_labels_predictions(dir, prefix):\n",
    "    users_files = [x for x in os.listdir(dir)]\n",
    "    users = [os.path.join(dir, user) for user in users_files]\n",
    "    print('found total', len(users), 'in dir')\n",
    "\n",
    "    predictions = []\n",
    "    labels = []\n",
    "    for user in users:\n",
    "        with open(user) as f:\n",
    "            data = json.load(f)\n",
    "        predictions.append(data[f'{prefix}pred'])\n",
    "        labels.append(data[f'{prefix}label'])\n",
    "\n",
    "    predictions = flatten(predictions)\n",
    "    labels = flatten(labels)\n",
    "    return labels, predictions\n",
    "\n",
    "def get_results(labels, predictions, compute_metrics):\n",
    "    tokenized_labels = tokenize(labels, tokenizer)\n",
    "    tokenized_predictions = tokenize(predictions, tokenizer)\n",
    "    results = compute_metrics((tokenized_predictions, tokenized_labels))\n",
    "    return results"
   ]
  },
  {
   "cell_type": "code",
   "execution_count": 8,
   "metadata": {},
   "outputs": [
    {
     "name": "stdout",
     "output_type": "stream",
     "text": [
      "found total 691 in dir\n",
      "########## SGD\n",
      "5505\n",
      "{'accuracy': 0.6325158946412353, 'f1': 0.5615734865842781}\n",
      "found total 691 in dir\n",
      "########## LoRA-Hub\n",
      "5505\n",
      "{'accuracy': 0.5751135331516803, 'f1': 0.5084813713561379}\n",
      "found total 691 in dir\n",
      "########## MeZO\n",
      "5505\n",
      "{'accuracy': 0.6330608537693007, 'f1': 0.5703730719383875}\n",
      "found total 691 in dir\n",
      "########## Model Zoo\n",
      "5505\n",
      "{'accuracy': 0.6252497729336967, 'f1': 0.552822772705473}\n",
      "found total 691 in dir\n",
      "########## STEEL\n",
      "5505\n",
      "{'accuracy': 0.6374205267938238, 'f1': 0.5569210340038492}\n"
     ]
    }
   ],
   "source": [
    "# LaMP-2\n",
    "compute_metrics, best_metric, true_labels, greater_is_better = get_metrics('LaMP-2', tokenizer)\n",
    "for method_name, properties in lamp2.items():\n",
    "    dir, prefix = properties\n",
    "    labels, predictions = get_labels_predictions(dir, prefix)\n",
    "    print('#'*10, method_name)\n",
    "    print(len(labels))\n",
    "    print(get_results(labels, predictions, compute_metrics))"
   ]
  },
  {
   "cell_type": "code",
   "execution_count": 9,
   "metadata": {},
   "outputs": [
    {
     "name": "stdout",
     "output_type": "stream",
     "text": [
      "found total 2500 in dir\n",
      "########## SGD\n",
      "2500\n"
     ]
    },
    {
     "name": "stderr",
     "output_type": "stream",
     "text": [
      "/home/CORP/fady.rezk/miniconda3/envs/lamp/lib/python3.9/site-packages/sklearn/metrics/_regression.py:492: FutureWarning: 'squared' is deprecated in version 1.4 and will be removed in 1.6. To calculate the root mean squared error, use the function'root_mean_squared_error'.\n",
      "  warnings.warn(\n"
     ]
    },
    {
     "name": "stdout",
     "output_type": "stream",
     "text": [
      "{'mae': 0.2216, 'rmse': 0.52}\n",
      "found total 2500 in dir\n",
      "########## SGD-new-recipe\n",
      "2500\n"
     ]
    },
    {
     "name": "stderr",
     "output_type": "stream",
     "text": [
      "/home/CORP/fady.rezk/miniconda3/envs/lamp/lib/python3.9/site-packages/sklearn/metrics/_regression.py:492: FutureWarning: 'squared' is deprecated in version 1.4 and will be removed in 1.6. To calculate the root mean squared error, use the function'root_mean_squared_error'.\n",
      "  warnings.warn(\n"
     ]
    },
    {
     "name": "stdout",
     "output_type": "stream",
     "text": [
      "{'mae': 0.2176, 'rmse': 0.5114684741017769}\n",
      "found total 2500 in dir\n",
      "########## LoRA-Hub\n",
      "2500\n"
     ]
    },
    {
     "name": "stderr",
     "output_type": "stream",
     "text": [
      "/home/CORP/fady.rezk/miniconda3/envs/lamp/lib/python3.9/site-packages/sklearn/metrics/_regression.py:492: FutureWarning: 'squared' is deprecated in version 1.4 and will be removed in 1.6. To calculate the root mean squared error, use the function'root_mean_squared_error'.\n",
      "  warnings.warn(\n"
     ]
    },
    {
     "name": "stdout",
     "output_type": "stream",
     "text": [
      "{'mae': 0.2304, 'rmse': 0.5268775948927796}\n",
      "found total 2500 in dir\n",
      "########## Mezo\n",
      "2500\n"
     ]
    },
    {
     "name": "stderr",
     "output_type": "stream",
     "text": [
      "/home/CORP/fady.rezk/miniconda3/envs/lamp/lib/python3.9/site-packages/sklearn/metrics/_regression.py:492: FutureWarning: 'squared' is deprecated in version 1.4 and will be removed in 1.6. To calculate the root mean squared error, use the function'root_mean_squared_error'.\n",
      "  warnings.warn(\n"
     ]
    },
    {
     "name": "stdout",
     "output_type": "stream",
     "text": [
      "{'mae': 0.2428, 'rmse': 0.5317894320123332}\n",
      "found total 2500 in dir\n",
      "########## Model Zoo\n",
      "2500\n"
     ]
    },
    {
     "name": "stderr",
     "output_type": "stream",
     "text": [
      "/home/CORP/fady.rezk/miniconda3/envs/lamp/lib/python3.9/site-packages/sklearn/metrics/_regression.py:492: FutureWarning: 'squared' is deprecated in version 1.4 and will be removed in 1.6. To calculate the root mean squared error, use the function'root_mean_squared_error'.\n",
      "  warnings.warn(\n"
     ]
    },
    {
     "name": "stdout",
     "output_type": "stream",
     "text": [
      "{'mae': 0.232, 'rmse': 0.5238320341483518}\n",
      "found total 2500 in dir\n",
      "########## STEEL\n",
      "2500\n",
      "{'mae': 0.2316, 'rmse': 0.5242136968832463}\n"
     ]
    },
    {
     "name": "stderr",
     "output_type": "stream",
     "text": [
      "/home/CORP/fady.rezk/miniconda3/envs/lamp/lib/python3.9/site-packages/sklearn/metrics/_regression.py:492: FutureWarning: 'squared' is deprecated in version 1.4 and will be removed in 1.6. To calculate the root mean squared error, use the function'root_mean_squared_error'.\n",
      "  warnings.warn(\n"
     ]
    }
   ],
   "source": [
    "# get all subdirectories in the directory\n",
    "compute_metrics, best_metric, true_labels, greater_is_better = get_metrics('LaMP-3', tokenizer)\n",
    "for method_name, properties in lamp3.items():\n",
    "    dir, prefix = properties\n",
    "    labels, predictions = get_labels_predictions(dir, prefix)\n",
    "    print('#'*10, method_name)\n",
    "    print(len(labels))\n",
    "    print(get_results(labels, predictions, compute_metrics))"
   ]
  },
  {
   "cell_type": "code",
   "execution_count": 10,
   "metadata": {},
   "outputs": [
    {
     "name": "stderr",
     "output_type": "stream",
     "text": [
      "[nltk_data] Downloading package wordnet to\n",
      "[nltk_data]     /home/CORP/fady.rezk/nltk_data...\n",
      "[nltk_data]   Package wordnet is already up-to-date!\n",
      "[nltk_data] Downloading package punkt_tab to\n",
      "[nltk_data]     /home/CORP/fady.rezk/nltk_data...\n",
      "[nltk_data]   Package punkt_tab is already up-to-date!\n",
      "[nltk_data] Downloading package omw-1.4 to\n",
      "[nltk_data]     /home/CORP/fady.rezk/nltk_data...\n",
      "[nltk_data]   Package omw-1.4 is already up-to-date!\n"
     ]
    },
    {
     "name": "stdout",
     "output_type": "stream",
     "text": [
      "found total 2500 in dir\n",
      "########## SGD\n",
      "2500\n",
      "{'bleu': 12.12872426962075, 'rouge-1': 0.4647709784202234, 'rouge-2': 0.2752048488145653, 'rouge-L': 0.42223627975021216, 'rouge-LSum': 0.4222482549617859, 'meteor': 0.4272147029155192}\n",
      "found total 2500 in dir\n",
      "########## SGD-new-recipe\n",
      "2500\n",
      "{'bleu': 12.844655363513676, 'rouge-1': 0.47014985421219424, 'rouge-2': 0.27939695264388653, 'rouge-L': 0.42798701375986703, 'rouge-LSum': 0.42794780253637965, 'meteor': 0.43779202474032125}\n",
      "found total 2500 in dir\n",
      "########## LoRA-Hub\n",
      "2500\n",
      "{'bleu': 12.517179212810316, 'rouge-1': 0.4709681642200614, 'rouge-2': 0.2790096909961383, 'rouge-L': 0.4276295808916075, 'rouge-LSum': 0.4276532917128513, 'meteor': 0.4395102997971276}\n",
      "found total 2500 in dir\n",
      "########## MeZO\n",
      "2500\n",
      "{'bleu': 12.689938924069233, 'rouge-1': 0.4702196669272689, 'rouge-2': 0.27828620236614554, 'rouge-L': 0.4274714684273735, 'rouge-LSum': 0.4275178632982731, 'meteor': 0.4345054523548217}\n",
      "found total 2500 in dir\n",
      "########## Model Zoo\n",
      "2500\n",
      "{'bleu': 12.60470837269861, 'rouge-1': 0.4708007415794351, 'rouge-2': 0.2795687405564123, 'rouge-L': 0.42817182083272776, 'rouge-LSum': 0.4282893978560097, 'meteor': 0.4388847725449637}\n",
      "found total 2500 in dir\n",
      "########## STEEL\n",
      "2500\n",
      "{'bleu': 12.596668136701838, 'rouge-1': 0.47230015890717303, 'rouge-2': 0.2811864484780394, 'rouge-L': 0.42885547449862693, 'rouge-LSum': 0.4282072329718706, 'meteor': 0.4429320882160376}\n"
     ]
    }
   ],
   "source": [
    "# get all subdirectories in the directory\n",
    "compute_metrics, best_metric, true_labels, greater_is_better = get_metrics('LaMP-5', tokenizer)\n",
    "for method_name, properties in lamp5.items():\n",
    "    dir, prefix = properties\n",
    "    labels, predictions = get_labels_predictions(dir, prefix)\n",
    "    print('#'*10, method_name)\n",
    "    print(len(labels))\n",
    "    print(get_results(labels, predictions, compute_metrics))"
   ]
  }
 ],
 "metadata": {
  "kernelspec": {
   "display_name": "lamp",
   "language": "python",
   "name": "python3"
  },
  "language_info": {
   "codemirror_mode": {
    "name": "ipython",
    "version": 3
   },
   "file_extension": ".py",
   "mimetype": "text/x-python",
   "name": "python",
   "nbconvert_exporter": "python",
   "pygments_lexer": "ipython3",
   "version": "3.9.19"
  }
 },
 "nbformat": 4,
 "nbformat_minor": 4
}
